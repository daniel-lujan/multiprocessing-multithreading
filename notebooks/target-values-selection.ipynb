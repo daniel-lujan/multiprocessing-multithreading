{
 "cells": [
  {
   "cell_type": "code",
   "execution_count": 4,
   "metadata": {},
   "outputs": [],
   "source": [
    "from os import listdir\n",
    "from random import randint\n",
    "from os.path import isfile, join"
   ]
  },
  {
   "cell_type": "code",
   "execution_count": 8,
   "metadata": {},
   "outputs": [],
   "source": [
    "import pandas as pd"
   ]
  },
  {
   "cell_type": "code",
   "execution_count": 9,
   "metadata": {},
   "outputs": [],
   "source": [
    "def get_random_line_from_file(file_name):\n",
    "    with open(file_name, 'r') as file:\n",
    "        # file_name is formatted as 'file_{file_number}_{number_of_lines}.txt'\n",
    "        _, file_number, lines = file_name.split('_')\n",
    "        lines = int(lines.split('.')[0])\n",
    "        \n",
    "        random_line = randint(0, lines - 1)\n",
    "\n",
    "        for i, line in enumerate(file):\n",
    "            if i == random_line:\n",
    "                return line, file_number, lines"
   ]
  },
  {
   "cell_type": "code",
   "execution_count": 16,
   "metadata": {},
   "outputs": [],
   "source": [
    "directory = '../data/'\n",
    "\n",
    "target_values = pd.DataFrame(columns=['File Group', 'Lines', 'Value', 'Source Filename'])\n",
    "\n",
    "for filename in listdir(directory):\n",
    "    if isfile(join(directory, filename)):\n",
    "        id_, file_number, lines = get_random_line_from_file(join(directory, filename))\n",
    "        id_ = id_.strip()\n",
    "        target_values = pd.concat([target_values, pd.DataFrame({'File Group': file_number, 'Lines': lines, 'Value': id_, 'Source Filename': join(directory, filename)}, index=[0])])"
   ]
  },
  {
   "cell_type": "code",
   "execution_count": 33,
   "metadata": {},
   "outputs": [
    {
     "data": {
      "text/html": [
       "<div>\n",
       "<style scoped>\n",
       "    .dataframe tbody tr th:only-of-type {\n",
       "        vertical-align: middle;\n",
       "    }\n",
       "\n",
       "    .dataframe tbody tr th {\n",
       "        vertical-align: top;\n",
       "    }\n",
       "\n",
       "    .dataframe thead th {\n",
       "        text-align: right;\n",
       "    }\n",
       "</style>\n",
       "<table border=\"1\" class=\"dataframe\">\n",
       "  <thead>\n",
       "    <tr style=\"text-align: right;\">\n",
       "      <th></th>\n",
       "      <th>File Group</th>\n",
       "      <th>Lines</th>\n",
       "      <th>Value</th>\n",
       "    </tr>\n",
       "  </thead>\n",
       "  <tbody>\n",
       "    <tr>\n",
       "      <th>0</th>\n",
       "      <td>33</td>\n",
       "      <td>200000</td>\n",
       "      <td>3e6285b6-bb01-4b6b-859e-63526f2f6cf8</td>\n",
       "    </tr>\n",
       "    <tr>\n",
       "      <th>0</th>\n",
       "      <td>31</td>\n",
       "      <td>200000</td>\n",
       "      <td>eb270b00-8c1a-497d-aa37-5f1d6c9207d6</td>\n",
       "    </tr>\n",
       "    <tr>\n",
       "      <th>0</th>\n",
       "      <td>32</td>\n",
       "      <td>200000</td>\n",
       "      <td>306dc0ce-4eba-404d-bb8b-31cb35ca8b39</td>\n",
       "    </tr>\n",
       "    <tr>\n",
       "      <th>0</th>\n",
       "      <td>34</td>\n",
       "      <td>200000</td>\n",
       "      <td>fa7166b8-4f50-43fe-8905-3c9b29c40b44</td>\n",
       "    </tr>\n",
       "    <tr>\n",
       "      <th>0</th>\n",
       "      <td>35</td>\n",
       "      <td>200000</td>\n",
       "      <td>22dd5ca0-0884-4931-9e63-673403c01400</td>\n",
       "    </tr>\n",
       "    <tr>\n",
       "      <th>...</th>\n",
       "      <td>...</td>\n",
       "      <td>...</td>\n",
       "      <td>...</td>\n",
       "    </tr>\n",
       "    <tr>\n",
       "      <th>0</th>\n",
       "      <td>1</td>\n",
       "      <td>2000000</td>\n",
       "      <td>3a3b6f41-6a10-4c62-98d4-092b64cd740a</td>\n",
       "    </tr>\n",
       "    <tr>\n",
       "      <th>0</th>\n",
       "      <td>3</td>\n",
       "      <td>2000000</td>\n",
       "      <td>30f15670-18cf-41c8-a02a-811f6bf947ea</td>\n",
       "    </tr>\n",
       "    <tr>\n",
       "      <th>0</th>\n",
       "      <td>0</td>\n",
       "      <td>2000000</td>\n",
       "      <td>e38c14cd-55df-4d48-a1c4-0512324aaa43</td>\n",
       "    </tr>\n",
       "    <tr>\n",
       "      <th>0</th>\n",
       "      <td>4</td>\n",
       "      <td>2000000</td>\n",
       "      <td>19f5b52d-5bc0-41d5-84b1-100f784fd21f</td>\n",
       "    </tr>\n",
       "    <tr>\n",
       "      <th>0</th>\n",
       "      <td>2</td>\n",
       "      <td>2000000</td>\n",
       "      <td>6129e1ed-ee0b-4c11-bbad-2ec4fb692bb3</td>\n",
       "    </tr>\n",
       "  </tbody>\n",
       "</table>\n",
       "<p>65 rows × 3 columns</p>\n",
       "</div>"
      ],
      "text/plain": [
       "   File Group    Lines                                 Value\n",
       "0          33   200000  3e6285b6-bb01-4b6b-859e-63526f2f6cf8\n",
       "0          31   200000  eb270b00-8c1a-497d-aa37-5f1d6c9207d6\n",
       "0          32   200000  306dc0ce-4eba-404d-bb8b-31cb35ca8b39\n",
       "0          34   200000  fa7166b8-4f50-43fe-8905-3c9b29c40b44\n",
       "0          35   200000  22dd5ca0-0884-4931-9e63-673403c01400\n",
       "..        ...      ...                                   ...\n",
       "0           1  2000000  3a3b6f41-6a10-4c62-98d4-092b64cd740a\n",
       "0           3  2000000  30f15670-18cf-41c8-a02a-811f6bf947ea\n",
       "0           0  2000000  e38c14cd-55df-4d48-a1c4-0512324aaa43\n",
       "0           4  2000000  19f5b52d-5bc0-41d5-84b1-100f784fd21f\n",
       "0           2  2000000  6129e1ed-ee0b-4c11-bbad-2ec4fb692bb3\n",
       "\n",
       "[65 rows x 3 columns]"
      ]
     },
     "execution_count": 33,
     "metadata": {},
     "output_type": "execute_result"
    }
   ],
   "source": [
    "target_values"
   ]
  },
  {
   "cell_type": "code",
   "execution_count": 32,
   "metadata": {},
   "outputs": [
    {
     "name": "stdout",
     "output_type": "stream",
     "text": [
      "['33' 200000 '3e6285b6-bb01-4b6b-859e-63526f2f6cf8']\n",
      "['31' 200000 'eb270b00-8c1a-497d-aa37-5f1d6c9207d6']\n",
      "['32' 200000 '306dc0ce-4eba-404d-bb8b-31cb35ca8b39']\n",
      "['34' 200000 'fa7166b8-4f50-43fe-8905-3c9b29c40b44']\n",
      "['35' 200000 '22dd5ca0-0884-4931-9e63-673403c01400']\n",
      "['36' 200000 '2dd31326-b7ee-45c5-a3cf-b1ee2a1598bb']\n",
      "['37' 200000 'c3468b13-9f0f-40fd-a43c-33ca86df33b8']\n",
      "['38' 200000 '0bc17e16-eea8-43f6-8a1f-8186f5ccf141']\n",
      "['39' 200000 'e495e386-86fc-4b8a-a659-07000097116a']\n",
      "['3' 200000 '6ea4cda5-4ce5-4acd-bf77-4295dde86bc7']\n",
      "['40' 200000 'ae62fef7-f856-4f00-84fe-15ff3961a3ce']\n",
      "['41' 200000 '9453aac3-d28f-4bf0-b7d4-a2cf2b1b3af1']\n",
      "['30' 200000 '547b62b1-aa18-4552-8bf6-343faf1a812b']\n",
      "['42' 200000 '147c9c62-c2f5-476b-a005-e195b6b76d2c']\n",
      "['44' 200000 '68f840a5-d53a-4079-bf7a-9f381d9233fe']\n",
      "['45' 200000 '7dc07e71-9c20-4bad-a161-82d8d7690bd3']\n",
      "['46' 200000 'c78eaa43-b1ff-4f38-920a-0648e752277d']\n",
      "['47' 200000 'b7ae4973-8a06-481a-baab-d41bf219e743']\n",
      "['48' 200000 '7feb230d-a2be-46c2-b5e4-ccd513f29035']\n",
      "['49' 200000 '9035621f-813e-473f-b0bb-b04b5700578f']\n",
      "['4' 200000 'c3faa013-9a09-420f-94e3-a90b95039227']\n",
      "['5' 200000 '6d8c527e-16b5-44c0-af68-07f69e8f1dae']\n",
      "['6' 200000 '4cb20ad8-95e6-4771-a7b9-f30aa74223f6']\n",
      "['7' 200000 '006e14d6-c63f-4243-af97-ae5b9a2bbc47']\n",
      "['8' 200000 'c74a9ee2-2876-4882-8554-c039ab17ab48']\n",
      "['43' 200000 '80ce1fd2-7df1-4d8c-9fb1-63d476bf99c7']\n",
      "['2' 200000 '11bd0e3a-3f4b-4ab6-8c32-1ae2f5b055a0']\n",
      "['9' 200000 '9cf20e71-9354-4246-b3b0-dc95c2b67b07']\n",
      "['18' 200000 '39af484e-3251-418c-83aa-145cf551aff3']\n",
      "['13' 200000 'b6945b64-4023-4221-9e54-8f87e493d3e7']\n",
      "['14' 200000 '59f51c4e-a6c5-4be5-8c0f-1711acd7ce7d']\n",
      "['15' 200000 'a344b15b-b618-4bf6-b7d2-d7185258ca13']\n",
      "['16' 200000 '943a4415-4a88-423b-8e13-5eae8c7ee927']\n",
      "['17' 200000 'cfaba705-844f-48c9-b6a7-3181c816c6c1']\n",
      "['11' 200000 '4ef2fb3c-3c9c-48b0-bafd-63735c519756']\n",
      "['19' 200000 '4bdbb334-f42a-4f66-8c0f-cef343d31bba']\n",
      "['1' 200000 '228ec34f-92d5-4694-aacc-3606283a2eb8']\n",
      "['10' 200000 '6ab0d8ac-7b4a-4a0c-bf68-59886be237ea']\n",
      "['20' 200000 'c676e635-18ea-453c-923c-519fbb18f1fa']\n",
      "['22' 200000 '444b1f8d-2449-46dc-b5bf-07c7d7ac9a0c']\n",
      "['23' 200000 '6817664a-fb9b-41a3-9dd2-cd8e42b31fa6']\n",
      "['24' 200000 'bb4ed45c-7533-4a17-bad8-61aa1f8d43dc']\n",
      "['25' 200000 '9ea8de1d-2ef2-4f7e-b255-8f56dc08e565']\n",
      "['26' 200000 'ab5ec36e-f40a-4143-8913-26335bf20ded']\n",
      "['0' 200000 '31679ae3-7ff4-4cce-a801-0ea8870ab4e7']\n",
      "['27' 200000 'fcad6feb-2781-49b3-978b-13f56c113df8']\n",
      "['28' 200000 'f4921845-d71b-48b6-9a1f-f7a917a31638']\n",
      "['29' 200000 '280abf5c-b9ed-4189-b975-4b1d5c73f421']\n",
      "['21' 200000 '3687a320-4523-4765-9fe8-d5b2d9a50954']\n",
      "['12' 200000 'de6a8827-1b32-4e13-879e-abeb9a79ec4a']\n",
      "['8' 1000000 '9ec4f175-4572-4cb1-9432-23af0fb137ef']\n",
      "['5' 1000000 '52373728-5375-42f1-8517-e72b8592606f']\n",
      "['7' 1000000 'f899d0b6-959c-4ff7-a65b-37ac25a44e0e']\n",
      "['6' 1000000 'cef961e7-a76a-46ff-bf40-e0e08e1f8f6f']\n",
      "['0' 1000000 'f07d2beb-63a7-4a43-868e-5c67a128d7fe']\n",
      "['4' 1000000 'a8710225-1e03-4d19-ad47-e440ee455bf0']\n",
      "['2' 1000000 'd98b3c92-b72f-4e2c-ab00-c0234987c28f']\n",
      "['1' 1000000 '3e0826d2-31da-4f54-a884-a33319060d4b']\n",
      "['3' 1000000 '377749a2-5119-4bb0-855c-8f957b515dae']\n",
      "['9' 1000000 '630bc5d3-43a4-478b-8733-e31beb38e1ab']\n",
      "['1' 2000000 '3a3b6f41-6a10-4c62-98d4-092b64cd740a']\n",
      "['3' 2000000 '30f15670-18cf-41c8-a02a-811f6bf947ea']\n",
      "['0' 2000000 'e38c14cd-55df-4d48-a1c4-0512324aaa43']\n",
      "['4' 2000000 '19f5b52d-5bc0-41d5-84b1-100f784fd21f']\n",
      "['2' 2000000 '6129e1ed-ee0b-4c11-bbad-2ec4fb692bb3']\n"
     ]
    }
   ],
   "source": [
    "for i in target_values.values:\n",
    "    print(i)"
   ]
  },
  {
   "cell_type": "code",
   "execution_count": 30,
   "metadata": {},
   "outputs": [
    {
     "data": {
      "text/plain": [
       "array([200000, 1000000, 2000000], dtype=object)"
      ]
     },
     "execution_count": 30,
     "metadata": {},
     "output_type": "execute_result"
    }
   ],
   "source": [
    "target_values[\"Lines\"].unique()"
   ]
  },
  {
   "cell_type": "code",
   "execution_count": 27,
   "metadata": {},
   "outputs": [],
   "source": [
    "target_values.to_csv('../target_values.csv', index=False)"
   ]
  },
  {
   "cell_type": "code",
   "execution_count": 29,
   "metadata": {},
   "outputs": [
    {
     "data": {
      "text/html": [
       "<div>\n",
       "<style scoped>\n",
       "    .dataframe tbody tr th:only-of-type {\n",
       "        vertical-align: middle;\n",
       "    }\n",
       "\n",
       "    .dataframe tbody tr th {\n",
       "        vertical-align: top;\n",
       "    }\n",
       "\n",
       "    .dataframe thead th {\n",
       "        text-align: right;\n",
       "    }\n",
       "</style>\n",
       "<table border=\"1\" class=\"dataframe\">\n",
       "  <thead>\n",
       "    <tr style=\"text-align: right;\">\n",
       "      <th></th>\n",
       "      <th>File Group</th>\n",
       "      <th>Lines</th>\n",
       "      <th>Value</th>\n",
       "    </tr>\n",
       "  </thead>\n",
       "  <tbody>\n",
       "    <tr>\n",
       "      <th>0</th>\n",
       "      <td>1</td>\n",
       "      <td>2000000</td>\n",
       "      <td>3a3b6f41-6a10-4c62-98d4-092b64cd740a</td>\n",
       "    </tr>\n",
       "    <tr>\n",
       "      <th>0</th>\n",
       "      <td>3</td>\n",
       "      <td>2000000</td>\n",
       "      <td>30f15670-18cf-41c8-a02a-811f6bf947ea</td>\n",
       "    </tr>\n",
       "    <tr>\n",
       "      <th>0</th>\n",
       "      <td>0</td>\n",
       "      <td>2000000</td>\n",
       "      <td>e38c14cd-55df-4d48-a1c4-0512324aaa43</td>\n",
       "    </tr>\n",
       "    <tr>\n",
       "      <th>0</th>\n",
       "      <td>4</td>\n",
       "      <td>2000000</td>\n",
       "      <td>19f5b52d-5bc0-41d5-84b1-100f784fd21f</td>\n",
       "    </tr>\n",
       "    <tr>\n",
       "      <th>0</th>\n",
       "      <td>2</td>\n",
       "      <td>2000000</td>\n",
       "      <td>6129e1ed-ee0b-4c11-bbad-2ec4fb692bb3</td>\n",
       "    </tr>\n",
       "  </tbody>\n",
       "</table>\n",
       "</div>"
      ],
      "text/plain": [
       "  File Group    Lines                                 Value\n",
       "0          1  2000000  3a3b6f41-6a10-4c62-98d4-092b64cd740a\n",
       "0          3  2000000  30f15670-18cf-41c8-a02a-811f6bf947ea\n",
       "0          0  2000000  e38c14cd-55df-4d48-a1c4-0512324aaa43\n",
       "0          4  2000000  19f5b52d-5bc0-41d5-84b1-100f784fd21f\n",
       "0          2  2000000  6129e1ed-ee0b-4c11-bbad-2ec4fb692bb3"
      ]
     },
     "execution_count": 29,
     "metadata": {},
     "output_type": "execute_result"
    }
   ],
   "source": [
    "target_values.where(target_values['Lines'] == 2_000_000).dropna()"
   ]
  },
  {
   "cell_type": "code",
   "execution_count": 26,
   "metadata": {},
   "outputs": [],
   "source": [
    "from os import listdir\n",
    "\n",
    "files = [f for f in listdir(directory) if isfile(join(directory, f)) and f.endswith('2000000.csv')]"
   ]
  },
  {
   "cell_type": "code",
   "execution_count": null,
   "metadata": {},
   "outputs": [],
   "source": [
    "from time import time\n",
    "\n",
    "def search_for_value(file_name, value):\n",
    "    start = time()\n",
    "    with open(file_name, 'r') as file:\n",
    "        for i, line in enumerate(file):\n",
    "            if line.strip() == value:\n",
    "                return time() - start\n",
    "    return time() - start"
   ]
  }
 ],
 "metadata": {
  "kernelspec": {
   "display_name": "venv",
   "language": "python",
   "name": "python3"
  },
  "language_info": {
   "codemirror_mode": {
    "name": "ipython",
    "version": 3
   },
   "file_extension": ".py",
   "mimetype": "text/x-python",
   "name": "python",
   "nbconvert_exporter": "python",
   "pygments_lexer": "ipython3",
   "version": "3.11.4"
  }
 },
 "nbformat": 4,
 "nbformat_minor": 2
}
