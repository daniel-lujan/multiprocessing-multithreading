{
 "cells": [
  {
   "cell_type": "markdown",
   "metadata": {},
   "source": [
    "# Dataset Generation"
   ]
  },
  {
   "cell_type": "markdown",
   "metadata": {},
   "source": [
    "Generation of random test data. Generate several CSV files with random UUIDs (version 4), and save them into the `/data` directory."
   ]
  },
  {
   "cell_type": "code",
   "execution_count": 1,
   "metadata": {},
   "outputs": [],
   "source": [
    "from uuid import uuid4\n",
    "import csv\n",
    "from uuid import uuid4\n",
    "import os"
   ]
  },
  {
   "cell_type": "markdown",
   "metadata": {},
   "source": [
    "### Configuration"
   ]
  },
  {
   "cell_type": "markdown",
   "metadata": {},
   "source": [
    "You can modify the values below to personalize the test.\n",
    "\n",
    "- DATA_POINTS represents the total amount of UUIDs that will be generated for each files group.\n",
    "- FILE_NUMBERS represents the multiple amount of files that will be generated. It is not recommended to exceed 60 files, because of OS thread limitations."
   ]
  },
  {
   "cell_type": "code",
   "execution_count": 8,
   "metadata": {},
   "outputs": [],
   "source": [
    "DATA_POINTS = int(3_981_312 / 2)\n",
    "FILE_NUMBERS = [2, 4, 8, 12, 16, 32, 48]"
   ]
  },
  {
   "cell_type": "code",
   "execution_count": 9,
   "metadata": {},
   "outputs": [],
   "source": [
    "DATA_DIR = '../data'\n",
    "\n",
    "if not os.path.exists(DATA_DIR):\n",
    "    os.makedirs(DATA_DIR)\n",
    "\n",
    "for number_of_files in FILE_NUMBERS:\n",
    "    max_lines = DATA_POINTS // number_of_files\n",
    "    for file_number in range(number_of_files):\n",
    "        file_path = os.path.join(DATA_DIR, f'file_{file_number}_{int(max_lines)}.csv')\n",
    "        with open(file_path, 'w', newline='') as csvfile:\n",
    "            writer = csv.writer(csvfile)\n",
    "            writer.writerow(['UUID'])\n",
    "            for _ in range(max_lines):\n",
    "                    writer.writerow([str(uuid4())])"
   ]
  }
 ],
 "metadata": {
  "kernelspec": {
   "display_name": "venv",
   "language": "python",
   "name": "python3"
  },
  "language_info": {
   "codemirror_mode": {
    "name": "ipython",
    "version": 3
   },
   "file_extension": ".py",
   "mimetype": "text/x-python",
   "name": "python",
   "nbconvert_exporter": "python",
   "pygments_lexer": "ipython3",
   "version": "3.11.4"
  }
 },
 "nbformat": 4,
 "nbformat_minor": 2
}
